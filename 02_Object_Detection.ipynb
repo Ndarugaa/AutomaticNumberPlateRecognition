{
 "cells": [
  {
   "cell_type": "markdown",
   "metadata": {},
   "source": [
    "%pip uninstall opencv-python-headless -y "
   ]
  },
  {
   "cell_type": "markdown",
   "metadata": {},
   "source": [
    "%pip install opencv-python --upgrade"
   ]
  },
  {
   "cell_type": "code",
   "execution_count": 1,
   "metadata": {
    "pycharm": {
     "name": "#%%\n"
    }
   },
   "outputs": [],
   "source": [
    "import numpy as np\n",
    "import pandas as pd\n",
    "import matplotlib.pyplot as plt\n",
    "import os\n",
    "import cv2"
   ]
  },
  {
   "cell_type": "code",
   "execution_count": 2,
   "metadata": {
    "pycharm": {
     "name": "#%%\n"
    }
   },
   "outputs": [
    {
     "data": {
      "text/html": [
       "<div>\n",
       "<style scoped>\n",
       "    .dataframe tbody tr th:only-of-type {\n",
       "        vertical-align: middle;\n",
       "    }\n",
       "\n",
       "    .dataframe tbody tr th {\n",
       "        vertical-align: top;\n",
       "    }\n",
       "\n",
       "    .dataframe thead th {\n",
       "        text-align: right;\n",
       "    }\n",
       "</style>\n",
       "<table border=\"1\" class=\"dataframe\">\n",
       "  <thead>\n",
       "    <tr style=\"text-align: right;\">\n",
       "      <th></th>\n",
       "      <th>filepath</th>\n",
       "      <th>xmin</th>\n",
       "      <th>xmax</th>\n",
       "      <th>ymin</th>\n",
       "      <th>ymax</th>\n",
       "    </tr>\n",
       "  </thead>\n",
       "  <tbody>\n",
       "    <tr>\n",
       "      <th>0</th>\n",
       "      <td>Cars64.xml</td>\n",
       "      <td>120</td>\n",
       "      <td>325</td>\n",
       "      <td>187</td>\n",
       "      <td>220</td>\n",
       "    </tr>\n",
       "    <tr>\n",
       "      <th>1</th>\n",
       "      <td>Cars233.xml</td>\n",
       "      <td>189</td>\n",
       "      <td>259</td>\n",
       "      <td>55</td>\n",
       "      <td>78</td>\n",
       "    </tr>\n",
       "    <tr>\n",
       "      <th>2</th>\n",
       "      <td>Cars243.xml</td>\n",
       "      <td>129</td>\n",
       "      <td>465</td>\n",
       "      <td>174</td>\n",
       "      <td>235</td>\n",
       "    </tr>\n",
       "    <tr>\n",
       "      <th>3</th>\n",
       "      <td>Cars10.xml</td>\n",
       "      <td>140</td>\n",
       "      <td>303</td>\n",
       "      <td>5</td>\n",
       "      <td>148</td>\n",
       "    </tr>\n",
       "    <tr>\n",
       "      <th>4</th>\n",
       "      <td>Cars203.xml</td>\n",
       "      <td>116</td>\n",
       "      <td>271</td>\n",
       "      <td>112</td>\n",
       "      <td>165</td>\n",
       "    </tr>\n",
       "  </tbody>\n",
       "</table>\n",
       "</div>"
      ],
      "text/plain": [
       "      filepath  xmin  xmax  ymin  ymax\n",
       "0   Cars64.xml   120   325   187   220\n",
       "1  Cars233.xml   189   259    55    78\n",
       "2  Cars243.xml   129   465   174   235\n",
       "3   Cars10.xml   140   303     5   148\n",
       "4  Cars203.xml   116   271   112   165"
      ]
     },
     "execution_count": 2,
     "metadata": {},
     "output_type": "execute_result"
    }
   ],
   "source": [
    "df = pd.read_csv('labels.csv')\n",
    "df.head()"
   ]
  },
  {
   "cell_type": "code",
   "execution_count": 3,
   "metadata": {},
   "outputs": [
    {
     "data": {
      "text/plain": [
       "(433, 5)"
      ]
     },
     "execution_count": 3,
     "metadata": {},
     "output_type": "execute_result"
    }
   ],
   "source": [
    "df.shape"
   ]
  },
  {
   "cell_type": "code",
   "execution_count": 4,
   "metadata": {
    "pycharm": {
     "name": "#%%\n"
    }
   },
   "outputs": [],
   "source": [
    "import xml.etree.ElementTree as xet"
   ]
  },
  {
   "cell_type": "code",
   "execution_count": 5,
   "metadata": {
    "pycharm": {
     "name": "#%%\n"
    }
   },
   "outputs": [
    {
     "data": {
      "text/plain": [
       "'Cars64.xml'"
      ]
     },
     "execution_count": 5,
     "metadata": {},
     "output_type": "execute_result"
    }
   ],
   "source": [
    "filename = df['filepath'][0]\n",
    "filename"
   ]
  },
  {
   "cell_type": "code",
   "execution_count": 6,
   "metadata": {
    "pycharm": {
     "name": "#%%\n"
    }
   },
   "outputs": [],
   "source": [
    "def getFilename(filename):\n",
    "    filename_image = xet.parse(os.path.join('./images',filename)).getroot().find('filename').text\n",
    "    # filepath_image = os.path.join('./images',filename_image)\n",
    "    return os.path.join('./images', filename_image)"
   ]
  },
  {
   "cell_type": "code",
   "execution_count": 7,
   "metadata": {
    "pycharm": {
     "name": "#%%\n"
    }
   },
   "outputs": [
    {
     "data": {
      "text/plain": [
       "'./images\\\\Cars64.png'"
      ]
     },
     "execution_count": 7,
     "metadata": {},
     "output_type": "execute_result"
    }
   ],
   "source": [
    "getFilename(filename)"
   ]
  },
  {
   "cell_type": "code",
   "execution_count": 8,
   "metadata": {
    "pycharm": {
     "name": "#%%\n"
    }
   },
   "outputs": [
    {
     "data": {
      "text/plain": [
       "['./images\\\\Cars64.png',\n",
       " './images\\\\Cars233.png',\n",
       " './images\\\\Cars243.png',\n",
       " './images\\\\Cars10.png',\n",
       " './images\\\\Cars203.png',\n",
       " './images\\\\Cars27.png',\n",
       " './images\\\\Cars8.png',\n",
       " './images\\\\Cars177.png',\n",
       " './images\\\\Cars249.png',\n",
       " './images\\\\Cars247.png',\n",
       " './images\\\\Cars145.png',\n",
       " './images\\\\Cars114.png',\n",
       " './images\\\\Cars69.png',\n",
       " './images\\\\Cars228.png',\n",
       " './images\\\\Cars202.png',\n",
       " './images\\\\Cars414.png',\n",
       " './images\\\\Cars221.png',\n",
       " './images\\\\Cars155.png',\n",
       " './images\\\\Cars196.png',\n",
       " './images\\\\Cars130.png',\n",
       " './images\\\\Cars296.png',\n",
       " './images\\\\Cars314.png',\n",
       " './images\\\\Cars86.png',\n",
       " './images\\\\Cars343.png',\n",
       " './images\\\\Cars115.png',\n",
       " './images\\\\Cars208.png',\n",
       " './images\\\\Cars142.png',\n",
       " './images\\\\Cars104.png',\n",
       " './images\\\\Cars15.png',\n",
       " './images\\\\Cars137.png',\n",
       " './images\\\\Cars125.png',\n",
       " './images\\\\Cars288.png',\n",
       " './images\\\\Cars132.png',\n",
       " './images\\\\Cars332.png',\n",
       " './images\\\\Cars194.png',\n",
       " './images\\\\Cars318.png',\n",
       " './images\\\\Cars158.png',\n",
       " './images\\\\Cars400.png',\n",
       " './images\\\\Cars116.png',\n",
       " './images\\\\Cars166.png',\n",
       " './images\\\\Cars361.png',\n",
       " './images\\\\Cars339.png',\n",
       " './images\\\\Cars421.png',\n",
       " './images\\\\Cars260.png',\n",
       " './images\\\\Cars395.png',\n",
       " './images\\\\Cars231.png',\n",
       " './images\\\\Cars389.png',\n",
       " './images\\\\Cars70.png',\n",
       " './images\\\\Cars263.png',\n",
       " './images\\\\Cars252.png',\n",
       " './images\\\\Cars41.png',\n",
       " './images\\\\Cars404.png',\n",
       " './images\\\\Cars375.png',\n",
       " './images\\\\Cars186.png',\n",
       " './images\\\\Cars312.png',\n",
       " './images\\\\Cars118.png',\n",
       " './images\\\\Cars174.png',\n",
       " './images\\\\Cars127.png',\n",
       " './images\\\\Cars281.png',\n",
       " './images\\\\Cars178.png',\n",
       " './images\\\\Cars215.png',\n",
       " './images\\\\Cars417.png',\n",
       " './images\\\\Cars359.png',\n",
       " './images\\\\Cars25.png',\n",
       " './images\\\\Cars310.png',\n",
       " './images\\\\Cars234.png',\n",
       " './images\\\\Cars212.png',\n",
       " './images\\\\Cars345.png',\n",
       " './images\\\\Cars93.png',\n",
       " './images\\\\Cars81.png',\n",
       " './images\\\\Cars274.png',\n",
       " './images\\\\Cars152.png',\n",
       " './images\\\\Cars79.png',\n",
       " './images\\\\Cars18.png',\n",
       " './images\\\\Cars320.png',\n",
       " './images\\\\Cars370.png',\n",
       " './images\\\\Cars331.png',\n",
       " './images\\\\Cars217.png',\n",
       " './images\\\\Cars201.png',\n",
       " './images\\\\Cars427.png',\n",
       " './images\\\\Cars346.png',\n",
       " './images\\\\Cars358.png',\n",
       " './images\\\\Cars44.png',\n",
       " './images\\\\Cars218.png',\n",
       " './images\\\\Cars207.png',\n",
       " './images\\\\Cars153.png',\n",
       " './images\\\\Cars340.png',\n",
       " './images\\\\Cars95.png',\n",
       " './images\\\\Cars53.png',\n",
       " './images\\\\Cars190.png',\n",
       " './images\\\\Cars185.png',\n",
       " './images\\\\Cars179.png',\n",
       " './images\\\\Cars290.png',\n",
       " './images\\\\Cars362.png',\n",
       " './images\\\\Cars334.png',\n",
       " './images\\\\Cars4.png',\n",
       " './images\\\\Cars386.png',\n",
       " './images\\\\Cars107.png',\n",
       " './images\\\\Cars240.png',\n",
       " './images\\\\Cars188.png',\n",
       " './images\\\\Cars321.png',\n",
       " './images\\\\Cars119.png',\n",
       " './images\\\\Cars393.png',\n",
       " './images\\\\Cars175.png',\n",
       " './images\\\\Cars387.png',\n",
       " './images\\\\Cars198.png',\n",
       " './images\\\\Cars413.png',\n",
       " './images\\\\Cars120.png',\n",
       " './images\\\\Cars273.png',\n",
       " './images\\\\Cars181.png',\n",
       " './images\\\\Cars48.png',\n",
       " './images\\\\Cars28.png',\n",
       " './images\\\\Cars2.png',\n",
       " './images\\\\Cars313.png',\n",
       " './images\\\\Cars98.png',\n",
       " './images\\\\Cars109.png',\n",
       " './images\\\\Cars390.png',\n",
       " './images\\\\Cars140.png',\n",
       " './images\\\\Cars71.png',\n",
       " './images\\\\Cars161.png',\n",
       " './images\\\\Cars285.png',\n",
       " './images\\\\Cars245.png',\n",
       " './images\\\\Cars311.png',\n",
       " './images\\\\Cars76.png',\n",
       " './images\\\\Cars19.png',\n",
       " './images\\\\Cars73.png',\n",
       " './images\\\\Cars307.png',\n",
       " './images\\\\Cars154.png',\n",
       " './images\\\\Cars401.png',\n",
       " './images\\\\Cars12.png',\n",
       " './images\\\\Cars180.png',\n",
       " './images\\\\Cars366.png',\n",
       " './images\\\\Cars39.png',\n",
       " './images\\\\Cars381.png',\n",
       " './images\\\\Cars226.png',\n",
       " './images\\\\Cars304.png',\n",
       " './images\\\\Cars363.png',\n",
       " './images\\\\Cars21.png',\n",
       " './images\\\\Cars122.png',\n",
       " './images\\\\Cars169.png',\n",
       " './images\\\\Cars330.png',\n",
       " './images\\\\Cars415.png',\n",
       " './images\\\\Cars364.png',\n",
       " './images\\\\Cars422.png',\n",
       " './images\\\\Cars419.png',\n",
       " './images\\\\Cars173.png',\n",
       " './images\\\\Cars253.png',\n",
       " './images\\\\Cars371.png',\n",
       " './images\\\\Cars135.png',\n",
       " './images\\\\Cars289.png',\n",
       " './images\\\\Cars1.png',\n",
       " './images\\\\Cars418.png',\n",
       " './images\\\\Cars30.png',\n",
       " './images\\\\Cars54.png',\n",
       " './images\\\\Cars213.png',\n",
       " './images\\\\Cars259.png',\n",
       " './images\\\\Cars416.png',\n",
       " './images\\\\Cars356.png',\n",
       " './images\\\\Cars424.png',\n",
       " './images\\\\Cars63.png',\n",
       " './images\\\\Cars78.png',\n",
       " './images\\\\Cars254.png',\n",
       " './images\\\\Cars131.png',\n",
       " './images\\\\Cars406.png',\n",
       " './images\\\\Cars108.png',\n",
       " './images\\\\Cars150.png',\n",
       " './images\\\\Cars333.png',\n",
       " './images\\\\Cars300.png',\n",
       " './images\\\\Cars74.png',\n",
       " './images\\\\Cars124.png',\n",
       " './images\\\\Cars55.png',\n",
       " './images\\\\Cars126.png',\n",
       " './images\\\\Cars367.png',\n",
       " './images\\\\Cars222.png',\n",
       " './images\\\\Cars265.png',\n",
       " './images\\\\Cars195.png',\n",
       " './images\\\\Cars47.png',\n",
       " './images\\\\Cars248.png',\n",
       " './images\\\\Cars211.png',\n",
       " './images\\\\Cars128.png',\n",
       " './images\\\\Cars309.png',\n",
       " './images\\\\Cars67.png',\n",
       " './images\\\\Cars36.png',\n",
       " './images\\\\Cars270.png',\n",
       " './images\\\\Cars294.png',\n",
       " './images\\\\Cars24.png',\n",
       " './images\\\\Cars191.png',\n",
       " './images\\\\Cars380.png',\n",
       " './images\\\\Cars432.png',\n",
       " './images\\\\Cars286.png',\n",
       " './images\\\\Cars396.png',\n",
       " './images\\\\Cars205.png',\n",
       " './images\\\\Cars336.png',\n",
       " './images\\\\Cars407.png',\n",
       " './images\\\\Cars420.png',\n",
       " './images\\\\Cars391.png',\n",
       " './images\\\\Cars13.png',\n",
       " './images\\\\Cars111.png',\n",
       " './images\\\\Cars322.png',\n",
       " './images\\\\Cars88.png',\n",
       " './images\\\\Cars355.png',\n",
       " './images\\\\Cars146.png',\n",
       " './images\\\\Cars94.png',\n",
       " './images\\\\Cars87.png',\n",
       " './images\\\\Cars17.png',\n",
       " './images\\\\Cars9.png',\n",
       " './images\\\\Cars301.png',\n",
       " './images\\\\Cars335.png',\n",
       " './images\\\\Cars102.png',\n",
       " './images\\\\Cars338.png',\n",
       " './images\\\\Cars315.png',\n",
       " './images\\\\Cars276.png',\n",
       " './images\\\\Cars316.png',\n",
       " './images\\\\Cars317.png',\n",
       " './images\\\\Cars31.png',\n",
       " './images\\\\Cars51.png',\n",
       " './images\\\\Cars106.png',\n",
       " './images\\\\Cars20.png',\n",
       " './images\\\\Cars349.png',\n",
       " './images\\\\Cars50.png',\n",
       " './images\\\\Cars238.png',\n",
       " './images\\\\Cars58.png',\n",
       " './images\\\\Cars165.png',\n",
       " './images\\\\Cars257.png',\n",
       " './images\\\\Cars139.png',\n",
       " './images\\\\Cars149.png',\n",
       " './images\\\\Cars384.png',\n",
       " './images\\\\Cars308.png',\n",
       " './images\\\\Cars264.png',\n",
       " './images\\\\Cars43.png',\n",
       " './images\\\\Cars170.png',\n",
       " './images\\\\Cars408.png',\n",
       " './images\\\\Cars351.png',\n",
       " './images\\\\Cars402.png',\n",
       " './images\\\\Cars306.png',\n",
       " './images\\\\Cars275.png',\n",
       " './images\\\\Cars255.png',\n",
       " './images\\\\Cars347.png',\n",
       " './images\\\\Cars105.png',\n",
       " './images\\\\Cars271.png',\n",
       " './images\\\\Cars242.png',\n",
       " './images\\\\Cars184.png',\n",
       " './images\\\\Cars379.png',\n",
       " './images\\\\Cars129.png',\n",
       " './images\\\\Cars157.png',\n",
       " './images\\\\Cars159.png',\n",
       " './images\\\\Cars303.png',\n",
       " './images\\\\Cars42.png',\n",
       " './images\\\\Cars374.png',\n",
       " './images\\\\Cars230.png',\n",
       " './images\\\\Cars151.png',\n",
       " './images\\\\Cars299.png',\n",
       " './images\\\\Cars38.png',\n",
       " './images\\\\Cars291.png',\n",
       " './images\\\\Cars328.png',\n",
       " './images\\\\Cars23.png',\n",
       " './images\\\\Cars156.png',\n",
       " './images\\\\Cars84.png',\n",
       " './images\\\\Cars45.png',\n",
       " './images\\\\Cars83.png',\n",
       " './images\\\\Cars82.png',\n",
       " './images\\\\Cars232.png',\n",
       " './images\\\\Cars266.png',\n",
       " './images\\\\Cars392.png',\n",
       " './images\\\\Cars216.png',\n",
       " './images\\\\Cars37.png',\n",
       " './images\\\\Cars7.png',\n",
       " './images\\\\Cars68.png',\n",
       " './images\\\\Cars373.png',\n",
       " './images\\\\Cars425.png',\n",
       " './images\\\\Cars423.png',\n",
       " './images\\\\Cars176.png',\n",
       " './images\\\\Cars365.png',\n",
       " './images\\\\Cars193.png',\n",
       " './images\\\\Cars397.png',\n",
       " './images\\\\Cars77.png',\n",
       " './images\\\\Cars341.png',\n",
       " './images\\\\Cars3.png',\n",
       " './images\\\\Cars337.png',\n",
       " './images\\\\Cars112.png',\n",
       " './images\\\\Cars244.png',\n",
       " './images\\\\Cars100.png',\n",
       " './images\\\\Cars60.png',\n",
       " './images\\\\Cars56.png',\n",
       " './images\\\\Cars410.png',\n",
       " './images\\\\Cars376.png',\n",
       " './images\\\\Cars327.png',\n",
       " './images\\\\Cars113.png',\n",
       " './images\\\\Cars429.png',\n",
       " './images\\\\Cars204.png',\n",
       " './images\\\\Cars34.png',\n",
       " './images\\\\Cars32.png',\n",
       " './images\\\\Cars35.png',\n",
       " './images\\\\Cars187.png',\n",
       " './images\\\\Cars412.png',\n",
       " './images\\\\Cars144.png',\n",
       " './images\\\\Cars372.png',\n",
       " './images\\\\Cars353.png',\n",
       " './images\\\\Cars319.png',\n",
       " './images\\\\Cars138.png',\n",
       " './images\\\\Cars279.png',\n",
       " './images\\\\Cars357.png',\n",
       " './images\\\\Cars26.png',\n",
       " './images\\\\Cars182.png',\n",
       " './images\\\\Cars256.png',\n",
       " './images\\\\Cars66.png',\n",
       " './images\\\\Cars325.png',\n",
       " './images\\\\Cars200.png',\n",
       " './images\\\\Cars268.png',\n",
       " './images\\\\Cars117.png',\n",
       " './images\\\\Cars80.png',\n",
       " './images\\\\Cars324.png',\n",
       " './images\\\\Cars163.png',\n",
       " './images\\\\Cars6.png',\n",
       " './images\\\\Cars141.png',\n",
       " './images\\\\Cars398.png',\n",
       " './images\\\\Cars101.png',\n",
       " './images\\\\Cars57.png',\n",
       " './images\\\\Cars293.png',\n",
       " './images\\\\Cars92.png',\n",
       " './images\\\\Cars162.png',\n",
       " './images\\\\Cars278.png',\n",
       " './images\\\\Cars171.png',\n",
       " './images\\\\Cars89.png',\n",
       " './images\\\\Cars411.png',\n",
       " './images\\\\Cars348.png',\n",
       " './images\\\\Cars46.png',\n",
       " './images\\\\Cars377.png',\n",
       " './images\\\\Cars360.png',\n",
       " './images\\\\Cars40.png',\n",
       " './images\\\\Cars210.png',\n",
       " './images\\\\Cars344.png',\n",
       " './images\\\\Cars269.png',\n",
       " './images\\\\Cars72.png',\n",
       " './images\\\\Cars229.png',\n",
       " './images\\\\Cars250.png',\n",
       " './images\\\\Cars214.png',\n",
       " './images\\\\Cars65.png',\n",
       " './images\\\\Cars251.png',\n",
       " './images\\\\Cars148.png',\n",
       " './images\\\\Cars236.png',\n",
       " './images\\\\Cars261.png',\n",
       " './images\\\\Cars136.png',\n",
       " './images\\\\Cars297.png',\n",
       " './images\\\\Cars431.png',\n",
       " './images\\\\Cars147.png',\n",
       " './images\\\\Cars52.png',\n",
       " './images\\\\Cars49.png',\n",
       " './images\\\\Cars11.png',\n",
       " './images\\\\Cars409.png',\n",
       " './images\\\\Cars110.png',\n",
       " './images\\\\Cars394.png',\n",
       " './images\\\\Cars90.png',\n",
       " './images\\\\Cars123.png',\n",
       " './images\\\\Cars96.png',\n",
       " './images\\\\Cars192.png',\n",
       " './images\\\\Cars133.png',\n",
       " './images\\\\Cars383.png',\n",
       " './images\\\\Cars16.png',\n",
       " './images\\\\Cars220.png',\n",
       " './images\\\\Cars305.png',\n",
       " './images\\\\Cars164.png',\n",
       " './images\\\\Cars33.png',\n",
       " './images\\\\Cars241.png',\n",
       " './images\\\\Cars121.png',\n",
       " './images\\\\Cars388.png',\n",
       " './images\\\\Cars99.png',\n",
       " './images\\\\Cars0.png',\n",
       " './images\\\\Cars352.png',\n",
       " './images\\\\Cars323.png',\n",
       " './images\\\\Cars103.png',\n",
       " './images\\\\Cars326.png',\n",
       " './images\\\\Cars183.png',\n",
       " './images\\\\Cars382.png',\n",
       " './images\\\\Cars219.png',\n",
       " './images\\\\Cars258.png',\n",
       " './images\\\\Cars5.png',\n",
       " './images\\\\Cars227.png',\n",
       " './images\\\\Cars14.png',\n",
       " './images\\\\Cars197.png',\n",
       " './images\\\\Cars239.png',\n",
       " './images\\\\Cars85.png',\n",
       " './images\\\\Cars29.png',\n",
       " './images\\\\Cars342.png',\n",
       " './images\\\\Cars369.png',\n",
       " './images\\\\Cars59.png',\n",
       " './images\\\\Cars224.png',\n",
       " './images\\\\Cars295.png',\n",
       " './images\\\\Cars199.png',\n",
       " './images\\\\Cars368.png',\n",
       " './images\\\\Cars430.png',\n",
       " './images\\\\Cars277.png',\n",
       " './images\\\\Cars283.png',\n",
       " './images\\\\Cars134.png',\n",
       " './images\\\\Cars284.png',\n",
       " './images\\\\Cars385.png',\n",
       " './images\\\\Cars302.png',\n",
       " './images\\\\Cars246.png',\n",
       " './images\\\\Cars168.png',\n",
       " './images\\\\Cars403.png',\n",
       " './images\\\\Cars350.png',\n",
       " './images\\\\Cars167.png',\n",
       " './images\\\\Cars75.png',\n",
       " './images\\\\Cars399.png',\n",
       " './images\\\\Cars143.png',\n",
       " './images\\\\Cars426.png',\n",
       " './images\\\\Cars97.png',\n",
       " './images\\\\Cars378.png',\n",
       " './images\\\\Cars262.png',\n",
       " './images\\\\Cars235.png',\n",
       " './images\\\\Cars209.png',\n",
       " './images\\\\Cars172.png',\n",
       " './images\\\\Cars189.png',\n",
       " './images\\\\Cars206.png',\n",
       " './images\\\\Cars287.png',\n",
       " './images\\\\Cars329.png',\n",
       " './images\\\\Cars282.png',\n",
       " './images\\\\Cars354.png',\n",
       " './images\\\\Cars292.png',\n",
       " './images\\\\Cars91.png',\n",
       " './images\\\\Cars62.png',\n",
       " './images\\\\Cars237.png',\n",
       " './images\\\\Cars405.png',\n",
       " './images\\\\Cars160.png',\n",
       " './images\\\\Cars225.png',\n",
       " './images\\\\Cars280.png',\n",
       " './images\\\\Cars61.png',\n",
       " './images\\\\Cars428.png',\n",
       " './images\\\\Cars223.png',\n",
       " './images\\\\Cars298.png',\n",
       " './images\\\\Cars272.png',\n",
       " './images\\\\Cars22.png',\n",
       " './images\\\\Cars267.png']"
      ]
     },
     "execution_count": 8,
     "metadata": {},
     "output_type": "execute_result"
    }
   ],
   "source": [
    "image_path = list(df['filepath'].apply(getFilename))\n",
    "image_path "
   ]
  },
  {
   "cell_type": "markdown",
   "metadata": {
    "pycharm": {
     "name": "#%% md\n"
    }
   },
   "source": [
    "#### verify image and output"
   ]
  },
  {
   "cell_type": "code",
   "execution_count": 9,
   "metadata": {
    "pycharm": {
     "name": "#%%\n"
    }
   },
   "outputs": [
    {
     "data": {
      "text/plain": [
       "'./images\\\\Cars64.png'"
      ]
     },
     "execution_count": 9,
     "metadata": {},
     "output_type": "execute_result"
    }
   ],
   "source": [
    "file_path = image_path[0]\n",
    "file_path "
   ]
  },
  {
   "cell_type": "code",
   "execution_count": 10,
   "metadata": {
    "pycharm": {
     "name": "#%%\n"
    }
   },
   "outputs": [],
   "source": [
    "img = cv2.imread(file_path)\n",
    "\n",
    "cv2.namedWindow('example',cv2.WINDOW_NORMAL)\n",
    "cv2.imshow('example',img)\n",
    "cv2.waitKey(0)\n",
    "cv2.destroyAllWindows()"
   ]
  },
  {
   "cell_type": "code",
   "execution_count": 11,
   "metadata": {
    "pycharm": {
     "name": "#%%\n"
    }
   },
   "outputs": [],
   "source": [
    "# 1093\t1396\t645\t727\n",
    "cv2.rectangle(img,(1093,645),(1396,727),(0,255,0),3)\n",
    "cv2.namedWindow('example',cv2.WINDOW_NORMAL)\n",
    "cv2.imshow('example',img)\n",
    "cv2.waitKey(0)\n",
    "cv2.destroyAllWindows()"
   ]
  },
  {
   "cell_type": "markdown",
   "metadata": {
    "pycharm": {
     "name": "#%% md\n"
    }
   },
   "source": [
    "### Data Preprocessing"
   ]
  },
  {
   "cell_type": "code",
   "execution_count": 12,
   "metadata": {
    "pycharm": {
     "name": "#%%\n"
    }
   },
   "outputs": [],
   "source": [
    "from sklearn.model_selection import train_test_split\n",
    "from tensorflow.keras.preprocessing.image import load_img, img_to_array"
   ]
  },
  {
   "cell_type": "code",
   "execution_count": 13,
   "metadata": {
    "pycharm": {
     "name": "#%%\n"
    }
   },
   "outputs": [],
   "source": [
    "labels = df.iloc[:,1:].values"
   ]
  },
  {
   "cell_type": "code",
   "execution_count": 14,
   "metadata": {
    "pycharm": {
     "name": "#%%\n"
    }
   },
   "outputs": [
    {
     "data": {
      "text/plain": [
       "str"
      ]
     },
     "execution_count": 14,
     "metadata": {},
     "output_type": "execute_result"
    }
   ],
   "source": [
    "type(image_path[0])"
   ]
  },
  {
   "cell_type": "code",
   "execution_count": 15,
   "metadata": {
    "pycharm": {
     "name": "#%%\n"
    }
   },
   "outputs": [],
   "source": [
    "data = []\n",
    "output = []\n",
    "# for i in os.listdir()\n",
    "for ind in range(len(image_path)):\n",
    "    image = image_path[ind]\n",
    "    img_arr = cv2.imread(image)\n",
    "    h,w,d = img_arr.shape\n",
    "    # prepprocesing\n",
    "    load_image = load_img(image,target_size=(224,224))\n",
    "    load_image_arr = img_to_array(load_image)\n",
    "    norm_load_image_arr = load_image_arr/255.0 # normalization\n",
    "    # normalization to labels\n",
    "    xmin,xmax,ymin,ymax = labels[ind]\n",
    "    nxmin,nxmax = xmin/w,xmax/w\n",
    "    nymin,nymax = ymin/h,ymax/h\n",
    "    label_norm = (nxmin,nxmax,nymin,nymax) # normalized output\n",
    "    # -------------- append\n",
    "    data.append(norm_load_image_arr)\n",
    "    output.append(label_norm)"
   ]
  },
  {
   "cell_type": "code",
   "execution_count": 16,
   "metadata": {
    "pycharm": {
     "name": "#%%\n"
    }
   },
   "outputs": [],
   "source": [
    "X = np.array(data,dtype=np.float32)\n",
    "y = np.array(output,dtype=np.float32)"
   ]
  },
  {
   "cell_type": "code",
   "execution_count": 17,
   "metadata": {
    "pycharm": {
     "name": "#%%\n"
    }
   },
   "outputs": [
    {
     "data": {
      "text/plain": [
       "((433, 224, 224, 3), (433, 4))"
      ]
     },
     "execution_count": 17,
     "metadata": {},
     "output_type": "execute_result"
    }
   ],
   "source": [
    "X.shape,y.shape"
   ]
  },
  {
   "cell_type": "code",
   "execution_count": 18,
   "metadata": {
    "pycharm": {
     "name": "#%%\n"
    }
   },
   "outputs": [
    {
     "data": {
      "text/plain": [
       "((346, 224, 224, 3), (87, 224, 224, 3), (346, 4), (87, 4))"
      ]
     },
     "execution_count": 18,
     "metadata": {},
     "output_type": "execute_result"
    }
   ],
   "source": [
    "x_train,x_test,y_train,y_test = train_test_split(X,y,train_size=0.8,random_state=0)\n",
    "x_train.shape,x_test.shape,y_train.shape,y_test.shape"
   ]
  },
  {
   "cell_type": "markdown",
   "metadata": {
    "pycharm": {
     "name": "#%% md\n"
    }
   },
   "source": [
    "### Deep Learning Model"
   ]
  },
  {
   "cell_type": "code",
   "execution_count": 19,
   "metadata": {
    "pycharm": {
     "name": "#%%\n"
    }
   },
   "outputs": [],
   "source": [
    "from tensorflow.keras.applications import MobileNetV2, InceptionV3, InceptionResNetV2\n",
    "from tensorflow.keras.layers import Dense, Dropout, Flatten, Input\n",
    "from tensorflow.keras.models import Model\n",
    "import tensorflow as tf"
   ]
  },
  {
   "cell_type": "code",
   "execution_count": null,
   "metadata": {
    "pycharm": {
     "name": "#%%\n"
    }
   },
   "outputs": [
    {
     "name": "stdout",
     "output_type": "stream",
     "text": [
      "Downloading data from https://storage.googleapis.com/tensorflow/keras-applications/inception_resnet_v2/inception_resnet_v2_weights_tf_dim_ordering_tf_kernels_notop.h5\n",
      " 21889024/219055592 [=>............................] - ETA: 6:52"
     ]
    }
   ],
   "source": [
    "inception_resnet = InceptionResNetV2(weights=\"imagenet\",include_top=False,\n",
    "                                     input_tensor=Input(shape=(224,224,3)))\n",
    "inception_resnet.trainable=False\n",
    "# ---------------------\n",
    "headmodel = inception_resnet.output\n",
    "headmodel = Flatten()(headmodel)\n",
    "headmodel = Dense(500,activation=\"relu\")(headmodel)\n",
    "headmodel = Dense(250,activation=\"relu\")(headmodel)\n",
    "headmodel = Dense(4,activation='sigmoid')(headmodel)\n",
    "# ---------- model\n",
    "model = Model(inputs=inception_resnet.input,outputs=headmodel)"
   ]
  },
  {
   "cell_type": "code",
   "execution_count": null,
   "metadata": {
    "pycharm": {
     "name": "#%%\n"
    },
    "scrolled": true
   },
   "outputs": [],
   "source": [
    "# complie model\n",
    "model.compile(loss='mse',optimizer=tf.keras.optimizers.Adam(learning_rate=1e-4))\n",
    "model.summary()"
   ]
  },
  {
   "cell_type": "markdown",
   "metadata": {
    "pycharm": {
     "name": "#%% md\n"
    }
   },
   "source": [
    "### model training"
   ]
  },
  {
   "cell_type": "code",
   "execution_count": null,
   "metadata": {
    "pycharm": {
     "name": "#%%\n"
    }
   },
   "outputs": [],
   "source": [
    "from tensorflow.keras.callbacks import TensorBoard"
   ]
  },
  {
   "cell_type": "code",
   "execution_count": null,
   "metadata": {
    "pycharm": {
     "name": "#%%\n"
    }
   },
   "outputs": [],
   "source": [
    "tfb = TensorBoard('object_detection')"
   ]
  },
  {
   "cell_type": "code",
   "execution_count": null,
   "metadata": {
    "pycharm": {
     "name": "#%%\n"
    }
   },
   "outputs": [],
   "source": [
    "history = model.fit(x=x_train,y=y_train,batch_size=10,epochs=100,\n",
    "                    validation_data=(x_test,y_test),callbacks=[tfb])"
   ]
  },
  {
   "cell_type": "code",
   "execution_count": null,
   "metadata": {
    "pycharm": {
     "name": "#%%\n"
    }
   },
   "outputs": [],
   "source": [
    "history = model.fit(x=x_train,y=y_train,batch_size=10,epochs=200,\n",
    "                    validation_data=(x_test,y_test),callbacks=[tfb],initial_epoch=101)"
   ]
  },
  {
   "cell_type": "code",
   "execution_count": null,
   "metadata": {
    "pycharm": {
     "name": "#%%\n"
    }
   },
   "outputs": [],
   "source": [
    "model.save('./models/object_detection.h5')"
   ]
  },
  {
   "cell_type": "code",
   "execution_count": null,
   "metadata": {
    "pycharm": {
     "name": "#%%\n"
    }
   },
   "outputs": [],
   "source": []
  },
  {
   "cell_type": "code",
   "execution_count": null,
   "metadata": {
    "pycharm": {
     "name": "#%%\n"
    }
   },
   "outputs": [],
   "source": []
  },
  {
   "cell_type": "code",
   "execution_count": null,
   "metadata": {
    "pycharm": {
     "name": "#%%\n"
    }
   },
   "outputs": [],
   "source": []
  },
  {
   "cell_type": "code",
   "execution_count": null,
   "metadata": {
    "pycharm": {
     "name": "#%%\n"
    }
   },
   "outputs": [],
   "source": []
  },
  {
   "cell_type": "code",
   "execution_count": null,
   "metadata": {
    "pycharm": {
     "name": "#%%\n"
    }
   },
   "outputs": [],
   "source": []
  },
  {
   "cell_type": "code",
   "execution_count": null,
   "metadata": {
    "pycharm": {
     "name": "#%%\n"
    }
   },
   "outputs": [],
   "source": []
  },
  {
   "cell_type": "code",
   "execution_count": null,
   "metadata": {
    "pycharm": {
     "name": "#%%\n"
    }
   },
   "outputs": [],
   "source": []
  },
  {
   "cell_type": "code",
   "execution_count": null,
   "metadata": {
    "pycharm": {
     "name": "#%%\n"
    }
   },
   "outputs": [],
   "source": []
  }
 ],
 "metadata": {
  "kernelspec": {
   "display_name": "Python 3 (ipykernel)",
   "language": "python",
   "name": "python3"
  },
  "language_info": {
   "codemirror_mode": {
    "name": "ipython",
    "version": 3
   },
   "file_extension": ".py",
   "mimetype": "text/x-python",
   "name": "python",
   "nbconvert_exporter": "python",
   "pygments_lexer": "ipython3",
   "version": "3.9.13"
  }
 },
 "nbformat": 4,
 "nbformat_minor": 4
}
