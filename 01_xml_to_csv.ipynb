{
 "cells": [
  {
   "cell_type": "code",
   "execution_count": 1,
   "metadata": {
    "pycharm": {
     "name": "#%%\n"
    }
   },
   "outputs": [],
   "source": [
    "import pandas as pd\n",
    "import os\n",
    "import xml.etree.ElementTree as xet"
   ]
  },
  {
   "cell_type": "code",
   "execution_count": 2,
   "metadata": {
    "pycharm": {
     "name": "#%%\n"
    }
   },
   "outputs": [],
   "source": [
    "image_dir = \"./images\""
   ]
  },
  {
   "cell_type": "code",
   "execution_count": 3,
   "metadata": {
    "pycharm": {
     "name": "#%%\n"
    }
   },
   "outputs": [],
   "source": [
    "labels_dict = dict(filepath=[],xmin=[],xmax=[],ymin=[],ymax=[])\n",
    "for filename in os.listdir(image_dir):\n",
    "    if (filename.endswith(\".xml\")):\n",
    "        file= os.path.join(image_dir, filename)\n",
    "        info = xet.parse(file)\n",
    "        root = info.getroot()\n",
    "        member_object = root.find('object')\n",
    "        labels_info = member_object.find('bndbox')\n",
    "        xmin = int(labels_info.find('xmin').text)\n",
    "        xmax = int(labels_info.find('xmax').text)\n",
    "        ymin = int(labels_info.find('ymin').text)\n",
    "        ymax = int(labels_info.find('ymax').text)\n",
    "        #print(xmin,xmax,ymin,ymax)\n",
    "        labels_dict['filepath'].append(filename)\n",
    "        labels_dict['xmin'].append(xmin)\n",
    "        labels_dict['xmax'].append(xmax)\n",
    "        labels_dict['ymin'].append(ymin)\n",
    "        labels_dict['ymax'].append(ymax)"
   ]
  },
  {
   "cell_type": "code",
   "execution_count": 4,
   "metadata": {
    "pycharm": {
     "name": "#%%\n"
    }
   },
   "outputs": [
    {
     "data": {
      "text/html": [
       "<div>\n",
       "<style scoped>\n",
       "    .dataframe tbody tr th:only-of-type {\n",
       "        vertical-align: middle;\n",
       "    }\n",
       "\n",
       "    .dataframe tbody tr th {\n",
       "        vertical-align: top;\n",
       "    }\n",
       "\n",
       "    .dataframe thead th {\n",
       "        text-align: right;\n",
       "    }\n",
       "</style>\n",
       "<table border=\"1\" class=\"dataframe\">\n",
       "  <thead>\n",
       "    <tr style=\"text-align: right;\">\n",
       "      <th></th>\n",
       "      <th>filepath</th>\n",
       "      <th>xmin</th>\n",
       "      <th>xmax</th>\n",
       "      <th>ymin</th>\n",
       "      <th>ymax</th>\n",
       "    </tr>\n",
       "  </thead>\n",
       "  <tbody>\n",
       "    <tr>\n",
       "      <th>0</th>\n",
       "      <td>Cars64.xml</td>\n",
       "      <td>120</td>\n",
       "      <td>325</td>\n",
       "      <td>187</td>\n",
       "      <td>220</td>\n",
       "    </tr>\n",
       "    <tr>\n",
       "      <th>1</th>\n",
       "      <td>Cars233.xml</td>\n",
       "      <td>189</td>\n",
       "      <td>259</td>\n",
       "      <td>55</td>\n",
       "      <td>78</td>\n",
       "    </tr>\n",
       "    <tr>\n",
       "      <th>2</th>\n",
       "      <td>Cars243.xml</td>\n",
       "      <td>129</td>\n",
       "      <td>465</td>\n",
       "      <td>174</td>\n",
       "      <td>235</td>\n",
       "    </tr>\n",
       "    <tr>\n",
       "      <th>3</th>\n",
       "      <td>Cars10.xml</td>\n",
       "      <td>140</td>\n",
       "      <td>303</td>\n",
       "      <td>5</td>\n",
       "      <td>148</td>\n",
       "    </tr>\n",
       "    <tr>\n",
       "      <th>4</th>\n",
       "      <td>Cars203.xml</td>\n",
       "      <td>116</td>\n",
       "      <td>271</td>\n",
       "      <td>112</td>\n",
       "      <td>165</td>\n",
       "    </tr>\n",
       "    <tr>\n",
       "      <th>...</th>\n",
       "      <td>...</td>\n",
       "      <td>...</td>\n",
       "      <td>...</td>\n",
       "      <td>...</td>\n",
       "      <td>...</td>\n",
       "    </tr>\n",
       "    <tr>\n",
       "      <th>428</th>\n",
       "      <td>Cars223.xml</td>\n",
       "      <td>347</td>\n",
       "      <td>407</td>\n",
       "      <td>231</td>\n",
       "      <td>249</td>\n",
       "    </tr>\n",
       "    <tr>\n",
       "      <th>429</th>\n",
       "      <td>Cars298.xml</td>\n",
       "      <td>166</td>\n",
       "      <td>233</td>\n",
       "      <td>148</td>\n",
       "      <td>184</td>\n",
       "    </tr>\n",
       "    <tr>\n",
       "      <th>430</th>\n",
       "      <td>Cars272.xml</td>\n",
       "      <td>170</td>\n",
       "      <td>316</td>\n",
       "      <td>81</td>\n",
       "      <td>121</td>\n",
       "    </tr>\n",
       "    <tr>\n",
       "      <th>431</th>\n",
       "      <td>Cars22.xml</td>\n",
       "      <td>207</td>\n",
       "      <td>260</td>\n",
       "      <td>104</td>\n",
       "      <td>116</td>\n",
       "    </tr>\n",
       "    <tr>\n",
       "      <th>432</th>\n",
       "      <td>Cars267.xml</td>\n",
       "      <td>274</td>\n",
       "      <td>343</td>\n",
       "      <td>118</td>\n",
       "      <td>138</td>\n",
       "    </tr>\n",
       "  </tbody>\n",
       "</table>\n",
       "<p>433 rows × 5 columns</p>\n",
       "</div>"
      ],
      "text/plain": [
       "        filepath  xmin  xmax  ymin  ymax\n",
       "0     Cars64.xml   120   325   187   220\n",
       "1    Cars233.xml   189   259    55    78\n",
       "2    Cars243.xml   129   465   174   235\n",
       "3     Cars10.xml   140   303     5   148\n",
       "4    Cars203.xml   116   271   112   165\n",
       "..           ...   ...   ...   ...   ...\n",
       "428  Cars223.xml   347   407   231   249\n",
       "429  Cars298.xml   166   233   148   184\n",
       "430  Cars272.xml   170   316    81   121\n",
       "431   Cars22.xml   207   260   104   116\n",
       "432  Cars267.xml   274   343   118   138\n",
       "\n",
       "[433 rows x 5 columns]"
      ]
     },
     "execution_count": 4,
     "metadata": {},
     "output_type": "execute_result"
    }
   ],
   "source": [
    "df = pd.DataFrame(labels_dict)\n",
    "df"
   ]
  },
  {
   "cell_type": "code",
   "execution_count": 5,
   "metadata": {
    "pycharm": {
     "name": "#%%\n"
    }
   },
   "outputs": [],
   "source": [
    "df.to_csv('labels.csv',index=False)"
   ]
  },
  {
   "cell_type": "code",
   "execution_count": null,
   "metadata": {
    "pycharm": {
     "name": "#%%\n"
    }
   },
   "outputs": [],
   "source": []
  }
 ],
 "metadata": {
  "kernelspec": {
   "display_name": "Python 3",
   "language": "python",
   "name": "python3"
  },
  "language_info": {
   "codemirror_mode": {
    "name": "ipython",
    "version": 3
   },
   "file_extension": ".py",
   "mimetype": "text/x-python",
   "name": "python",
   "nbconvert_exporter": "python",
   "pygments_lexer": "ipython3",
   "version": "3.10.9"
  }
 },
 "nbformat": 4,
 "nbformat_minor": 4
}
